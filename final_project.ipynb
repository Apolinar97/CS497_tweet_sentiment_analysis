{
  "nbformat": 4,
  "nbformat_minor": 0,
  "metadata": {
    "colab": {
      "name": "final_project.ipynb",
      "provenance": [],
      "collapsed_sections": [],
      "authorship_tag": "ABX9TyN8mFpLezABrM2cIArJCdDF",
      "include_colab_link": true
    },
    "kernelspec": {
      "name": "python3",
      "display_name": "Python 3"
    }
  },
  "cells": [
    {
      "cell_type": "markdown",
      "metadata": {
        "id": "view-in-github",
        "colab_type": "text"
      },
      "source": [
        "<a href=\"https://colab.research.google.com/github/Apolinar97/CS497_tweet_sentiment_analysis/blob/master/final_project.ipynb\" target=\"_parent\"><img src=\"https://colab.research.google.com/assets/colab-badge.svg\" alt=\"Open In Colab\"/></a>"
      ]
    },
    {
      "cell_type": "code",
      "metadata": {
        "id": "qE8HxdWp-Z2x",
        "colab_type": "code",
        "colab": {}
      },
      "source": [
        "#provide acess to drive.\n",
        "!pip install -U -q PyDrive\n",
        "from pydrive.auth import GoogleAuth\n",
        "from pydrive.drive import GoogleDrive\n",
        "from google.colab import auth\n",
        "from oauth2client.client import GoogleCredentials"
      ],
      "execution_count": 0,
      "outputs": []
    },
    {
      "cell_type": "code",
      "metadata": {
        "id": "BBU76Mg-BLgw",
        "colab_type": "code",
        "colab": {}
      },
      "source": [
        "auth.authenticate_user()\n",
        "gauth = GoogleAuth()\n",
        "gauth.credentials = GoogleCredentials.get_application_default()\n",
        "drive = GoogleDrive(gauth)"
      ],
      "execution_count": 0,
      "outputs": []
    },
    {
      "cell_type": "code",
      "metadata": {
        "colab_type": "code",
        "id": "dS13Ls1Y6y8J",
        "colab": {}
      },
      "source": [
        "#locate csv file and download/load it.\n",
        "downloaded = drive.CreateFile({'id':'166vhh0NJH_DyhTMYTnt-aQKkN7RyO9F2'})\n",
        "downloaded.GetContentFile('Tweets.csv') "
      ],
      "execution_count": 0,
      "outputs": []
    },
    {
      "cell_type": "code",
      "metadata": {
        "id": "eWBAEBNpCCSC",
        "colab_type": "code",
        "colab": {}
      },
      "source": [
        "try:\n",
        "  %tensorflow_version 2.x\n",
        "except:\n",
        "  pass\n",
        "\n",
        "import tensorflow as tf\n",
        "import pandas as pd\n",
        "import numpy as np\n",
        "import matplotlib.pyplot as plt\n",
        "\n",
        "from sklearn.model_selection import train_test_split\n",
        "from sklearn.preprocessing import LabelEncoder"
      ],
      "execution_count": 0,
      "outputs": []
    },
    {
      "cell_type": "code",
      "metadata": {
        "id": "I62RyVha6749",
        "colab_type": "code",
        "outputId": "4272381d-928b-44b9-ee31-790d3ee6c92f",
        "colab": {
          "base_uri": "https://localhost:8080/",
          "height": 85
        }
      },
      "source": [
        "#clean data\n",
        "import re\n",
        "import nltk\n",
        "nltk.download('punkt')\n",
        "nltk.download('stopwords')\n",
        "\n",
        "from nltk.tokenize import TweetTokenizer\n",
        "from nltk.corpus import stopwords\n",
        "\n",
        "\n",
        "df = pd.read_csv('Tweets.csv')\n",
        "col_to_drop = ['tweet_id','airline_sentiment_confidence',\n",
        "              'negativereason', 'negativereason_confidence', 'airline',\n",
        "              'airline_sentiment_gold', 'name', 'negativereason_gold',\n",
        "              'retweet_count','tweet_coord', 'tweet_created',\n",
        "              'tweet_location', 'user_timezone']\n",
        "df.drop(col_to_drop,axis=1, inplace=True)\n"
      ],
      "execution_count": 72,
      "outputs": [
        {
          "output_type": "stream",
          "text": [
            "[nltk_data] Downloading package punkt to /root/nltk_data...\n",
            "[nltk_data]   Package punkt is already up-to-date!\n",
            "[nltk_data] Downloading package stopwords to /root/nltk_data...\n",
            "[nltk_data]   Package stopwords is already up-to-date!\n"
          ],
          "name": "stdout"
        }
      ]
    },
    {
      "cell_type": "code",
      "metadata": {
        "id": "3gfBe1d48LYv",
        "colab_type": "code",
        "colab": {}
      },
      "source": [
        "def norm_tweet(tweet):\n",
        "  tweet = tweet.lower()\n",
        "  tweet = re.sub('(@[A-Za-z0-9]+)|([^0-9A-Za-z \\t])|(\\w+:\\/\\/\\S+)', ' ', tweet)\n",
        "  tweet = re.sub('[^a-z]+', ' ', tweet)\n",
        "  return tweet\n",
        "\n",
        "def tokenize_tweet(tweet):\n",
        "  tweet_tk = TweetTokenizer()\n",
        "  return(tweet_tk.tokenize(tweet))\n",
        "\n",
        "\n",
        "def remove_stopwords(tweet_tokens):\n",
        "  stop_words = stopwords.words('english')\n",
        "  return([word for word in tweet_tokens if word not in stop_words])\n",
        "\n",
        "def remove_stopwords_for_analysis(tweet):\n",
        "  stop_words = stopwords.words('english')\n",
        "  white_list = ['no', 'not']\n",
        "  words_tweet = tweet.split()\n",
        "  clean_tweet = [word for word in words_tweet if(word not in stop_words or word in white_list)]\n",
        "  return ' '.join(clean_tweet)"
      ],
      "execution_count": 0,
      "outputs": []
    },
    {
      "cell_type": "code",
      "metadata": {
        "id": "RvEh31BIL_y4",
        "colab_type": "code",
        "colab": {}
      },
      "source": [
        "#clean df for basic EDA\n",
        "df['text'] = df['text'].map(norm_tweet)\n",
        "df['text'] = df['text'].map(tokenize_tweet)\n",
        "df['text'] = df['text'].map(remove_stopwords)"
      ],
      "execution_count": 0,
      "outputs": []
    },
    {
      "cell_type": "code",
      "metadata": {
        "colab_type": "code",
        "outputId": "fd6377bd-07bf-4037-fff4-e489b7ec7305",
        "id": "sfSPw53AVdvk",
        "colab": {
          "base_uri": "https://localhost:8080/",
          "height": 173
        }
      },
      "source": [
        "#Conduct EDA\n",
        "df.groupby(['airline_sentiment']).count()"
      ],
      "execution_count": 75,
      "outputs": [
        {
          "output_type": "execute_result",
          "data": {
            "text/html": [
              "<div>\n",
              "<style scoped>\n",
              "    .dataframe tbody tr th:only-of-type {\n",
              "        vertical-align: middle;\n",
              "    }\n",
              "\n",
              "    .dataframe tbody tr th {\n",
              "        vertical-align: top;\n",
              "    }\n",
              "\n",
              "    .dataframe thead th {\n",
              "        text-align: right;\n",
              "    }\n",
              "</style>\n",
              "<table border=\"1\" class=\"dataframe\">\n",
              "  <thead>\n",
              "    <tr style=\"text-align: right;\">\n",
              "      <th></th>\n",
              "      <th>text</th>\n",
              "    </tr>\n",
              "    <tr>\n",
              "      <th>airline_sentiment</th>\n",
              "      <th></th>\n",
              "    </tr>\n",
              "  </thead>\n",
              "  <tbody>\n",
              "    <tr>\n",
              "      <th>negative</th>\n",
              "      <td>9178</td>\n",
              "    </tr>\n",
              "    <tr>\n",
              "      <th>neutral</th>\n",
              "      <td>3099</td>\n",
              "    </tr>\n",
              "    <tr>\n",
              "      <th>positive</th>\n",
              "      <td>2363</td>\n",
              "    </tr>\n",
              "  </tbody>\n",
              "</table>\n",
              "</div>"
            ],
            "text/plain": [
              "                   text\n",
              "airline_sentiment      \n",
              "negative           9178\n",
              "neutral            3099\n",
              "positive           2363"
            ]
          },
          "metadata": {
            "tags": []
          },
          "execution_count": 75
        }
      ]
    },
    {
      "cell_type": "code",
      "metadata": {
        "id": "cWva_4QtKWxL",
        "colab_type": "code",
        "outputId": "e81c2012-f611-4400-c7c3-47e2567b3fd7",
        "colab": {
          "base_uri": "https://localhost:8080/",
          "height": 236
        }
      },
      "source": [
        "from wordcloud import WordCloud\n",
        "wordcloud = WordCloud()\n",
        "wordcloud.generate(' '.join((np.concatenate(df.text.values))))\n",
        "plt.imshow(wordcloud)\n",
        "plt.show"
      ],
      "execution_count": 76,
      "outputs": [
        {
          "output_type": "execute_result",
          "data": {
            "text/plain": [
              "<function matplotlib.pyplot.show>"
            ]
          },
          "metadata": {
            "tags": []
          },
          "execution_count": 76
        },
        {
          "output_type": "display_data",
          "data": {
            "image/png": "[encoded data removed]",
            "text/plain": [
              "<Figure size 432x288 with 1 Axes>"
            ]
          },
          "metadata": {
            "tags": [],
            "needs_background": "light"
          }
        }
      ]
    },
    {
      "cell_type": "code",
      "metadata": {
        "id": "oJcA-CeaRhs1",
        "colab_type": "code",
        "colab": {}
      },
      "source": [
        "ana_df = pd.read_csv('Tweets.csv')\n",
        "ana_df.drop(col_to_drop,axis=1, inplace=True)\n",
        "\n",
        "ana_df['airline_sentiment'].replace({'neutral': 2 , 'positive': 1, 'negative':0}, inplace=True)\n",
        "ana_df['text'] = ana_df['text'].map(norm_tweet)\n",
        "ana_df['text'] = ana_df['text'].map(remove_stopwords_for_analysis)\n"
      ],
      "execution_count": 0,
      "outputs": []
    },
    {
      "cell_type": "code",
      "metadata": {
        "id": "rDM7siPgezFj",
        "colab_type": "code",
        "colab": {}
      },
      "source": [
        "from collections import Counter\n",
        "#prepare data for training\n",
        "NUM_WORDS = 10000\n",
        "X_train, X_test, y_train, y_test = train_test_split(ana_df.text, ana_df.airline_sentiment, test_size = 1/3)\n",
        "\n",
        "tkn = tf.keras.preprocessing.text.Tokenizer(num_words=NUM_WORDS, lower=True, split=' ')\n",
        "\n",
        "tkn.fit_on_texts(X_train)\n",
        "\n",
        "#X_train_seq = tkn.texts_to_sequences(X_train)\n",
        "#X_test_seq = tkn.texts_to_sequences(X_test)\n"
      ],
      "execution_count": 0,
      "outputs": []
    },
    {
      "cell_type": "code",
      "metadata": {
        "id": "s0wuyST1vbec",
        "colab_type": "code",
        "colab": {}
      },
      "source": [
        "#one hot training\n",
        "X_train_oh = tkn.texts_to_matrix(X_train,mode='binary')\n",
        "X_test_oh = tkn.texts_to_matrix(X_test, mode='binary')\n",
        "\n",
        "#encode labels\n",
        "label_encoder = LabelEncoder()\n",
        "\n",
        "#convert labels to oh \n",
        "y_train_oh = tf.keras.utils.to_categorical(label_encoder.fit_transform(y_train))\n",
        "y_test_oh = tf.keras.utils.to_categorical(label_encoder.fit_transform(y_test))\n"
      ],
      "execution_count": 0,
      "outputs": []
    },
    {
      "cell_type": "markdown",
      "metadata": {
        "id": "-yNSUoS48qjj",
        "colab_type": "text"
      },
      "source": [
        "Adress issue of overfitting. Removed one layer and decreased the units from 64 to 32."
      ]
    },
    {
      "cell_type": "code",
      "metadata": {
        "id": "wIHp2Qoyym-3",
        "colab_type": "code",
        "colab": {
          "base_uri": "https://localhost:8080/",
          "height": 255
        },
        "outputId": "afd46b66-390e-443e-921b-778eccf12f93"
      },
      "source": [
        "#init model\n",
        "sentiment_model = tf.keras.Sequential()\n",
        "sentiment_model.add(tf.keras.layers.Dense(64, activation='relu', input_shape=[NUM_WORDS,]))\n",
        "sentiment_model.add(tf.keras.layers.Dense(64, activation='relu'))\n",
        "sentiment_model.add(tf.keras.layers.Dense(3, activation='softmax'))\n",
        "\n",
        "sentiment_model.summary()"
      ],
      "execution_count": 80,
      "outputs": [
        {
          "output_type": "stream",
          "text": [
            "Model: \"sequential_16\"\n",
            "_________________________________________________________________\n",
            "Layer (type)                 Output Shape              Param #   \n",
            "=================================================================\n",
            "dense_43 (Dense)             (None, 64)                640064    \n",
            "_________________________________________________________________\n",
            "dense_44 (Dense)             (None, 64)                4160      \n",
            "_________________________________________________________________\n",
            "dense_45 (Dense)             (None, 3)                 195       \n",
            "=================================================================\n",
            "Total params: 644,419\n",
            "Trainable params: 644,419\n",
            "Non-trainable params: 0\n",
            "_________________________________________________________________\n"
          ],
          "name": "stdout"
        }
      ]
    },
    {
      "cell_type": "code",
      "metadata": {
        "id": "ysGrmM803Wil",
        "colab_type": "code",
        "colab": {
          "base_uri": "https://localhost:8080/",
          "height": 697
        },
        "outputId": "b5d91548-7a7f-4255-ef8b-e56de2652811"
      },
      "source": [
        "sentiment_model.compile(optimizer='rmsprop',\n",
        "                        loss='categorical_crossentropy',\n",
        "                        metrics = ['acc'] )\n",
        "\n",
        "history = sentiment_model.fit(X_train_oh, y_train_oh, epochs=20, batch_size=512, validation_data=(X_test_oh,y_test_oh))"
      ],
      "execution_count": 81,
      "outputs": [
        {
          "output_type": "stream",
          "text": [
            "Epoch 1/20\n",
            "20/20 [==============================] - 1s 58ms/step - loss: 0.8250 - acc: 0.6274 - val_loss: 0.7188 - val_acc: 0.6455\n",
            "Epoch 2/20\n",
            "20/20 [==============================] - 1s 53ms/step - loss: 0.6018 - acc: 0.7348 - val_loss: 0.6126 - val_acc: 0.7689\n",
            "Epoch 3/20\n",
            "20/20 [==============================] - 1s 52ms/step - loss: 0.4714 - acc: 0.8481 - val_loss: 0.5472 - val_acc: 0.7926\n",
            "Epoch 4/20\n",
            "20/20 [==============================] - 1s 52ms/step - loss: 0.3597 - acc: 0.8875 - val_loss: 0.5467 - val_acc: 0.7963\n",
            "Epoch 5/20\n",
            "20/20 [==============================] - 1s 68ms/step - loss: 0.2925 - acc: 0.9073 - val_loss: 0.5471 - val_acc: 0.7949\n",
            "Epoch 6/20\n",
            "20/20 [==============================] - 1s 67ms/step - loss: 0.2391 - acc: 0.9215 - val_loss: 0.5836 - val_acc: 0.7885\n",
            "Epoch 7/20\n",
            "20/20 [==============================] - 1s 53ms/step - loss: 0.2071 - acc: 0.9321 - val_loss: 0.6126 - val_acc: 0.7764\n",
            "Epoch 8/20\n",
            "20/20 [==============================] - 1s 53ms/step - loss: 0.1698 - acc: 0.9430 - val_loss: 0.6727 - val_acc: 0.7857\n",
            "Epoch 9/20\n",
            "20/20 [==============================] - 1s 52ms/step - loss: 0.1424 - acc: 0.9520 - val_loss: 0.7180 - val_acc: 0.7791\n",
            "Epoch 10/20\n",
            "20/20 [==============================] - 1s 53ms/step - loss: 0.1250 - acc: 0.9600 - val_loss: 0.7788 - val_acc: 0.7680\n",
            "Epoch 11/20\n",
            "20/20 [==============================] - 1s 52ms/step - loss: 0.1077 - acc: 0.9626 - val_loss: 0.8331 - val_acc: 0.7721\n",
            "Epoch 12/20\n",
            "20/20 [==============================] - 1s 53ms/step - loss: 0.0938 - acc: 0.9684 - val_loss: 0.9144 - val_acc: 0.7705\n",
            "Epoch 13/20\n",
            "20/20 [==============================] - 1s 53ms/step - loss: 0.0850 - acc: 0.9731 - val_loss: 0.9785 - val_acc: 0.7664\n",
            "Epoch 14/20\n",
            "20/20 [==============================] - 1s 52ms/step - loss: 0.0763 - acc: 0.9764 - val_loss: 1.0689 - val_acc: 0.7697\n",
            "Epoch 15/20\n",
            "20/20 [==============================] - 1s 54ms/step - loss: 0.0668 - acc: 0.9787 - val_loss: 1.1279 - val_acc: 0.7641\n",
            "Epoch 16/20\n",
            "20/20 [==============================] - 1s 52ms/step - loss: 0.0584 - acc: 0.9799 - val_loss: 1.2325 - val_acc: 0.7668\n",
            "Epoch 17/20\n",
            "20/20 [==============================] - 1s 52ms/step - loss: 0.0542 - acc: 0.9822 - val_loss: 1.2376 - val_acc: 0.7553\n",
            "Epoch 18/20\n",
            "20/20 [==============================] - 1s 51ms/step - loss: 0.0505 - acc: 0.9830 - val_loss: 1.3166 - val_acc: 0.7578\n",
            "Epoch 19/20\n",
            "20/20 [==============================] - 1s 53ms/step - loss: 0.0466 - acc: 0.9850 - val_loss: 1.4366 - val_acc: 0.7623\n",
            "Epoch 20/20\n",
            "20/20 [==============================] - 1s 52ms/step - loss: 0.0467 - acc: 0.9859 - val_loss: 1.4450 - val_acc: 0.7557\n"
          ],
          "name": "stdout"
        }
      ]
    },
    {
      "cell_type": "markdown",
      "metadata": {
        "id": "pCnbRjyZ9FYW",
        "colab_type": "text"
      },
      "source": [
        "Applied regularization to decrease further overfitting."
      ]
    },
    {
      "cell_type": "code",
      "metadata": {
        "id": "hpI9y7Wg84ik",
        "colab_type": "code",
        "colab": {}
      },
      "source": [
        "sentiment_model_reg = tf.keras.Sequential()\n",
        "sentiment_model_reg.add(tf.keras.layers.Dense(32, activation='relu', \n",
        "                                              kernel_regularizer= tf.keras.regularizers.l2(l=0.01), \n",
        "                                              input_shape=[NUM_WORDS,]))\n",
        "\n",
        "sentiment_model_reg.add(tf.keras.layers.Dense(32,activation='relu', kernel_regularizer=tf.keras.regularizers.l2(l=0.01)))\n",
        "sentiment_model_reg.add(tf.keras.layers.Dense(3, activation='softmax'))"
      ],
      "execution_count": 0,
      "outputs": []
    },
    {
      "cell_type": "code",
      "metadata": {
        "id": "vButks3GFsCi",
        "colab_type": "code",
        "colab": {
          "base_uri": "https://localhost:8080/",
          "height": 34
        },
        "outputId": "8b4c4e25-996e-4e80-f1e3-15c6afd81c71"
      },
      "source": [
        "results = sentiment_model_reg.evaluate(X_test_oh, y_test_oh)\n"
      ],
      "execution_count": 84,
      "outputs": [
        {
          "output_type": "stream",
          "text": [
            "153/153 [==============================] - 0s 2ms/step - loss: 0.6872 - acc: 0.7875\n"
          ],
          "name": "stdout"
        }
      ]
    },
    {
      "cell_type": "markdown",
      "metadata": {
        "id": "ymxbpCA3Duqy",
        "colab_type": "text"
      },
      "source": [
        "val_acc stops increasing at epoch 24. Stop training"
      ]
    },
    {
      "cell_type": "code",
      "metadata": {
        "id": "ilJIp_9L_JCO",
        "colab_type": "code",
        "colab": {
          "base_uri": "https://localhost:8080/",
          "height": 853
        },
        "outputId": "c775d1bc-332b-47d4-8e73-6306b253ee41"
      },
      "source": [
        "sentiment_model_reg.compile(optimizer='rmsprop',\n",
        "                        loss='categorical_crossentropy',\n",
        "                        metrics = ['acc'])\n",
        "\n",
        "history_reg = sentiment_model_reg.fit(X_train_oh, y_train_oh, epochs=24, batch_size=512, validation_data=(X_test_oh, y_test_oh))"
      ],
      "execution_count": 87,
      "outputs": [
        {
          "output_type": "stream",
          "text": [
            "Epoch 1/24\n",
            "20/20 [==============================] - 1s 47ms/step - loss: 0.5786 - acc: 0.8238 - val_loss: 0.6795 - val_acc: 0.7754\n",
            "Epoch 2/24\n",
            "20/20 [==============================] - 1s 42ms/step - loss: 0.5480 - acc: 0.8444 - val_loss: 0.6690 - val_acc: 0.7881\n",
            "Epoch 3/24\n",
            "20/20 [==============================] - 1s 43ms/step - loss: 0.5296 - acc: 0.8536 - val_loss: 0.6703 - val_acc: 0.7877\n",
            "Epoch 4/24\n",
            "20/20 [==============================] - 1s 41ms/step - loss: 0.5340 - acc: 0.8568 - val_loss: 0.6581 - val_acc: 0.7955\n",
            "Epoch 5/24\n",
            "20/20 [==============================] - 1s 40ms/step - loss: 0.5305 - acc: 0.8611 - val_loss: 0.6760 - val_acc: 0.7908\n",
            "Epoch 6/24\n",
            "20/20 [==============================] - 1s 41ms/step - loss: 0.5339 - acc: 0.8622 - val_loss: 0.6687 - val_acc: 0.7922\n",
            "Epoch 7/24\n",
            "20/20 [==============================] - 1s 40ms/step - loss: 0.5312 - acc: 0.8620 - val_loss: 0.6659 - val_acc: 0.7906\n",
            "Epoch 8/24\n",
            "20/20 [==============================] - 1s 40ms/step - loss: 0.5401 - acc: 0.8639 - val_loss: 0.6625 - val_acc: 0.7898\n",
            "Epoch 9/24\n",
            "20/20 [==============================] - 1s 40ms/step - loss: 0.5211 - acc: 0.8699 - val_loss: 0.6619 - val_acc: 0.7908\n",
            "Epoch 10/24\n",
            "20/20 [==============================] - 1s 40ms/step - loss: 0.5188 - acc: 0.8663 - val_loss: 0.6669 - val_acc: 0.7914\n",
            "Epoch 11/24\n",
            "20/20 [==============================] - 1s 40ms/step - loss: 0.5191 - acc: 0.8663 - val_loss: 0.6677 - val_acc: 0.7951\n",
            "Epoch 12/24\n",
            "20/20 [==============================] - 1s 41ms/step - loss: 0.5174 - acc: 0.8698 - val_loss: 0.6737 - val_acc: 0.7861\n",
            "Epoch 13/24\n",
            "20/20 [==============================] - 1s 40ms/step - loss: 0.5270 - acc: 0.8706 - val_loss: 0.6720 - val_acc: 0.7885\n",
            "Epoch 14/24\n",
            "20/20 [==============================] - 1s 40ms/step - loss: 0.5077 - acc: 0.8725 - val_loss: 0.6675 - val_acc: 0.7887\n",
            "Epoch 15/24\n",
            "20/20 [==============================] - 1s 41ms/step - loss: 0.5184 - acc: 0.8715 - val_loss: 0.6640 - val_acc: 0.7934\n",
            "Epoch 16/24\n",
            "20/20 [==============================] - 1s 41ms/step - loss: 0.5055 - acc: 0.8719 - val_loss: 0.6770 - val_acc: 0.7879\n",
            "Epoch 17/24\n",
            "20/20 [==============================] - 1s 41ms/step - loss: 0.5126 - acc: 0.8750 - val_loss: 0.6714 - val_acc: 0.7936\n",
            "Epoch 18/24\n",
            "20/20 [==============================] - 1s 40ms/step - loss: 0.5069 - acc: 0.8755 - val_loss: 0.6713 - val_acc: 0.7906\n",
            "Epoch 19/24\n",
            "20/20 [==============================] - 1s 40ms/step - loss: 0.4998 - acc: 0.8760 - val_loss: 0.6731 - val_acc: 0.7891\n",
            "Epoch 20/24\n",
            "20/20 [==============================] - 1s 40ms/step - loss: 0.4949 - acc: 0.8769 - val_loss: 0.6752 - val_acc: 0.7902\n",
            "Epoch 21/24\n",
            "20/20 [==============================] - 1s 40ms/step - loss: 0.4968 - acc: 0.8776 - val_loss: 0.6842 - val_acc: 0.7879\n",
            "Epoch 22/24\n",
            "20/20 [==============================] - 1s 41ms/step - loss: 0.4992 - acc: 0.8781 - val_loss: 0.6726 - val_acc: 0.7918\n",
            "Epoch 23/24\n",
            "20/20 [==============================] - 1s 41ms/step - loss: 0.4881 - acc: 0.8841 - val_loss: 0.6815 - val_acc: 0.7873\n",
            "Epoch 24/24\n",
            "20/20 [==============================] - 1s 41ms/step - loss: 0.4891 - acc: 0.8800 - val_loss: 0.6830 - val_acc: 0.7891\n"
          ],
          "name": "stdout"
        }
      ]
    },
    {
      "cell_type": "code",
      "metadata": {
        "id": "jRHsohvsHPpl",
        "colab_type": "code",
        "colab": {
          "base_uri": "https://localhost:8080/",
          "height": 34
        },
        "outputId": "d4e57580-ef0e-4041-a6bf-f0bf7c85f928"
      },
      "source": [
        "#TODO add word embedding layer.\n",
        "print(f\"Accuracy score: {results[1]}\")\n"
      ],
      "execution_count": 85,
      "outputs": [
        {
          "output_type": "stream",
          "text": [
            "Accuracy score: 0.7875000238418579\n"
          ],
          "name": "stdout"
        }
      ]
    },
    {
      "cell_type": "code",
      "metadata": {
        "id": "6ycj2Fq2JdWA",
        "colab_type": "code",
        "colab": {}
      },
      "source": [
        "#save model to drive: \n",
        "sentiment_model_reg.save('sentiment_model_reg.h5')\n",
        "mod_file = drive.CreateFile({'title': 'sentiment_model_reg.h5'})\n",
        "mod_file.SetContentFile('sentiment_model_reg.h5')\n",
        "mod_file.Upload()"
      ],
      "execution_count": 0,
      "outputs": []
    }
  ]
}